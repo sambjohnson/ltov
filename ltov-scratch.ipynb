{
 "cells": [
  {
   "cell_type": "markdown",
   "id": "dde323e8",
   "metadata": {},
   "source": [
    "# IO Tables / Labor vs. Value"
   ]
  },
  {
   "cell_type": "code",
   "execution_count": 68,
   "id": "1b217363",
   "metadata": {},
   "outputs": [],
   "source": [
    "import numpy as np\n",
    "import pandas as pd\n",
    "import sklearn as skl\n",
    "\n",
    "import os\n",
    "import matplotlib.pyplot as plt\n",
    "import scipy.stats as stats"
   ]
  },
  {
   "cell_type": "markdown",
   "id": "6aa5d973",
   "metadata": {},
   "source": [
    "##  Step 1: load data and extract io table\n",
    "  \n",
    "- currently **only UK 2019 data**, included in the `data` directory\n",
    "- note that preprocessing may be required for IO tables provided in different formats. Given the lack of standardization beetween governments, this seems unavoidable unless a previously assembled database has been standardized across years and nations."
   ]
  },
  {
   "cell_type": "code",
   "execution_count": 2,
   "id": "d482a462",
   "metadata": {},
   "outputs": [],
   "source": [
    "# display the entire table if desired\n",
    "display_all = True\n",
    "\n",
    "if display_all:\n",
    "    pd.set_option('display.max_rows', None)\n",
    "    pd.set_option('display.max_columns', None)"
   ]
  },
  {
   "cell_type": "code",
   "execution_count": 3,
   "id": "341e248b",
   "metadata": {},
   "outputs": [
    {
     "data": {
      "text/plain": [
       "['nasu1719in.xlsx', '~$nasu1719in.xlsx']"
      ]
     },
     "execution_count": 3,
     "metadata": {},
     "output_type": "execute_result"
    }
   ],
   "source": [
    "os.listdir('data')"
   ]
  },
  {
   "cell_type": "code",
   "execution_count": 4,
   "id": "694b45ff",
   "metadata": {},
   "outputs": [],
   "source": [
    "data_dir = './data'\n",
    "data_fn = 'nasu1719in.xlsx'\n",
    "data_fp = os.path.join(data_dir, data_fn)\n",
    "\n",
    "# Read all sheets of the XLSX file into a dictionary\n",
    "sheets_dict = pd.read_excel(data_fp, sheet_name=None)"
   ]
  },
  {
   "cell_type": "code",
   "execution_count": 5,
   "id": "759aacbe",
   "metadata": {},
   "outputs": [
    {
     "data": {
      "text/plain": [
       "['Menu',\n",
       " 'IOT',\n",
       " 'A',\n",
       " 'Leontief',\n",
       " 'Effects',\n",
       " 'Multipliers',\n",
       " 'Primary input from final use',\n",
       " 'GVA by final uses',\n",
       " 'Imports from final use',\n",
       " 'IOGs']"
      ]
     },
     "execution_count": 5,
     "metadata": {},
     "output_type": "execute_result"
    }
   ],
   "source": [
    "list(sheets_dict.keys())"
   ]
  },
  {
   "cell_type": "code",
   "execution_count": 6,
   "id": "52892c2b",
   "metadata": {},
   "outputs": [
    {
     "data": {
      "text/plain": [
       "Index(['2019 Input-Output Analytical Tables', 'Unnamed: 1', 'Unnamed: 2',\n",
       "       'Unnamed: 3', 'Unnamed: 4', 'Unnamed: 5', 'Unnamed: 6', 'Unnamed: 7',\n",
       "       'Unnamed: 8', 'Unnamed: 9',\n",
       "       ...\n",
       "       'Unnamed: 109', 'Unnamed: 110', 'Unnamed: 111', 'Unnamed: 112',\n",
       "       'Unnamed: 113', 'Unnamed: 114', 'Unnamed: 115', 'Unnamed: 116',\n",
       "       'Unnamed: 117', 'Unnamed: 118'],\n",
       "      dtype='object', length=119)"
      ]
     },
     "execution_count": 6,
     "metadata": {},
     "output_type": "execute_result"
    }
   ],
   "source": [
    "io_df = sheets_dict['IOT']\n",
    "io_df.columns"
   ]
  },
  {
   "cell_type": "code",
   "execution_count": 7,
   "id": "559dd7c7",
   "metadata": {},
   "outputs": [],
   "source": [
    "# select the subset of IO table with numeridal data\n",
    "\n",
    "# For the UK table, there are two very important rows:\n",
    "# - D1 (\"Compensation of employees\"), at row index -5\n",
    "# - GVA (\"Gross value added\"), at row index -2\n",
    "\n",
    "# The original xlsx file contains links to documentation: e.g. \n",
    "# https://www.ons.gov.uk/economy/nationalaccounts/supplyandusetables/articles/inputoutputanalyticaltables/guidanceforuse\n",
    "\n",
    "io_df_trimmed = io_df.iloc[2:, 2:]\n",
    "\n",
    "industry_codes = list(io_df_trimmed.iloc[0])\n",
    "industry_names = list(io_df_trimmed.iloc[1])\n",
    "\n",
    "io_df_trimmed.columns = industry_names\n",
    "io_df_trimmed = io_df_trimmed.reset_index(drop=True)\n",
    "io_df_trimmed.drop(index=[0, 1, 2], inplace=True)"
   ]
  },
  {
   "cell_type": "code",
   "execution_count": 13,
   "id": "c2fb0ec0",
   "metadata": {},
   "outputs": [
    {
     "data": {
      "text/plain": [
       "[(0,\n",
       "  'Crop And Animal Production, Hunting And Related Service Activities \\xa0'),\n",
       " (1, 'Forestry And Logging \\xa0'),\n",
       " (2, 'Fishing And Aquaculture \\xa0'),\n",
       " (3, 'Mining Of Coal And Lignite \\xa0'),\n",
       " (4,\n",
       "  'Extraction Of Crude Petroleum And Natural Gas \\xa0& Mining Of Metal Ores'),\n",
       " (5, 'Other Mining And Quarrying \\xa0'),\n",
       " (6, 'Mining Support Service Activities \\xa0'),\n",
       " (7, 'Processing and preserving of meat and production of meat products'),\n",
       " (8,\n",
       "  'Processing and preserving of fish, crustaceans, molluscs, fruit and vegetables'),\n",
       " (9, 'Manufacture of vegetable and animal oils and fats'),\n",
       " (10, 'Manufacture of dairy products'),\n",
       " (11, 'Manufacture of grain mill products, starches and starch products'),\n",
       " (12, 'Manufacture of bakery and farinaceous products'),\n",
       " (13, 'Manufacture of other food products'),\n",
       " (14, 'Manufacture of prepared animal feeds'),\n",
       " (15, 'Manufacture of alcoholic beverages  & Tobacco Products'),\n",
       " (16,\n",
       "  'Manufacture of soft drinks; production of mineral waters and other bottled waters'),\n",
       " (17, 'Manufacture Of Textiles \\xa0'),\n",
       " (18, 'Manufacture Of Wearing Apparel \\xa0'),\n",
       " (19, 'Manufacture Of Leather And Related Products \\xa0'),\n",
       " (20,\n",
       "  'Manufacture Of Wood & Products Of Wood & Cork, Except Furniture; Manuf. Of Articles Of Straw'),\n",
       " (21, 'Manufacture Of Paper And Paper Products \\xa0'),\n",
       " (22, 'Printing And Reproduction Of Recorded Media \\xa0'),\n",
       " (23, 'Manufacture Of Coke And Refined Petroleum Products \\xa0'),\n",
       " (24,\n",
       "  'Manufacture of paints, varnishes and similar coatings, printing ink and mastics'),\n",
       " (25,\n",
       "  'Manufacture of soap & detergents, cleaning & polishing, perfumes & toilet preparations'),\n",
       " (26, 'Manufacture of other chemical products'),\n",
       " (27,\n",
       "  'Manufacture of industrial gases, inorganics and fertilisers (inorganic chemicals) - 20.11/13/15'),\n",
       " (28, 'Manufacture of petrochemicals - 20.14/16/17/60'),\n",
       " (29, 'Manufacture of dyestuffs, agro-chemicals - 20.12/20'),\n",
       " (30,\n",
       "  'Manufacture Of Basic Pharmaceutical Products And Pharmaceutical Preparations'),\n",
       " (31, 'Manufacture Of Rubber And Plastic Products \\xa0'),\n",
       " (32,\n",
       "  'Manufacture of cement, lime, plaster and articles of concrete, cement and plaster'),\n",
       " (33,\n",
       "  'Manufacture of glass, refractory, clay, porcelain, ceramic, stone products - 23.1-4/7-9'),\n",
       " (34, 'Manufacture of basic iron and steel'),\n",
       " (35, 'Manufacture of other basic metals and casting'),\n",
       " (36, 'Manufacture of weapons and ammunition'),\n",
       " (37,\n",
       "  'Manufacture of fabricated metal products, excluding weapons & ammunition - 25.1-3/5-9'),\n",
       " (38, 'Manufacture Of Computer, Electronic And Optical Products \\xa0'),\n",
       " (39, 'Manufacture Of Electrical Equipment \\xa0'),\n",
       " (40, 'Manufacture Of Machinery And Equipment N.E.C. \\xa0'),\n",
       " (41, 'Manufacture Of Motor Vehicles, Trailers And Semi-Trailers \\xa0'),\n",
       " (42, 'Building of ships and boats'),\n",
       " (43, 'Manufacture of air and spacecraft and related machinery'),\n",
       " (44, 'Manufacture of other transport equipment - 30.2/4/9'),\n",
       " (45, 'Manufacture Of Furniture \\xa0'),\n",
       " (46, 'Other Manufacturing \\xa0'),\n",
       " (47, 'Repair and maintenance of ships and boats'),\n",
       " (48, 'Repair and maintenance of aircraft and spacecraft'),\n",
       " (49, 'Rest of repair; Installation - 33.11-14/17/19/20'),\n",
       " (50, 'Electric power generation, transmission and distribution'),\n",
       " (51,\n",
       "  'Manufacture of gas; distribution of gaseous fuels through mains; steam and aircon supply'),\n",
       " (52, 'Water Collection, Treatment And Supply \\xa0'),\n",
       " (53, 'Sewerage \\xa0'),\n",
       " (54,\n",
       "  'Waste Collection, Treatment And Disposal Activities; Materials Recovery \\xa0'),\n",
       " (55, 'Remediation Activities And Other Waste Management Services \\xa0'),\n",
       " (56, 'Construction'),\n",
       " (57,\n",
       "  'Wholesale And Retail Trade And Repair Of Motor Vehicles And Motorcycles \\xa0'),\n",
       " (58, 'Wholesale Trade, Except Of Motor Vehicles And Motorcycles \\xa0'),\n",
       " (59, 'Retail Trade, Except Of Motor Vehicles And Motorcycles \\xa0'),\n",
       " (60, 'Rail transport'),\n",
       " (61,\n",
       "  'Land transport services and transport services via pipelines, excluding rail transport'),\n",
       " (62, 'Water Transport \\xa0'),\n",
       " (63, 'Air Transport \\xa0'),\n",
       " (64, 'Warehousing And Support Activities For Transportation \\xa0'),\n",
       " (65, 'Postal And Courier Activities \\xa0'),\n",
       " (66, 'Accommodation \\xa0'),\n",
       " (67, 'Food And Beverage Service Activities \\xa0'),\n",
       " (68, 'Publishing Activities \\xa0'),\n",
       " (69,\n",
       "  'Motion Picture, Video & TV Programme Production, Sound Recording & Music Publishing Activities & Programming And Broadcasting Activities'),\n",
       " (70, 'Telecommunications \\xa0'),\n",
       " (71, 'Computer Programming, Consultancy And Related Activities \\xa0'),\n",
       " (72, 'Information Service Activities \\xa0'),\n",
       " (73,\n",
       "  'Financial Service Activities, Except Insurance And Pension Funding \\xa0'),\n",
       " (74,\n",
       "  'Insurance, reinsurance and pension funding services, except compulsory social security'),\n",
       " (75,\n",
       "  'Activities Auxiliary To Financial Services And Insurance Activities \\xa0'),\n",
       " (76, 'Real estate services on a fee or contract basis \\xa0'),\n",
       " (77, \"Owner-Occupiers' Housing\"),\n",
       " (78,\n",
       "  'Buying and selling, renting and operating of own or leased real estate, excluding imputed rent'),\n",
       " (79, 'Legal activities \\xa0'),\n",
       " (80, 'Accounting, bookkeeping and auditing activities; tax consultancy \\xa0'),\n",
       " (81, 'Activities Of Head Offices; Management Consultancy Activities \\xa0'),\n",
       " (82,\n",
       "  'Architectural And Engineering Activities; Technical Testing And Analysis \\xa0'),\n",
       " (83, 'Scientific Research And Development \\xa0'),\n",
       " (84, 'Advertising And Market Research \\xa0'),\n",
       " (85, 'Other Professional, Scientific And Technical Activities \\xa0'),\n",
       " (86, 'Veterinary Activities \\xa0'),\n",
       " (87, 'Rental And Leasing Activities \\xa0'),\n",
       " (88, 'Employment Activities \\xa0'),\n",
       " (89,\n",
       "  'Travel Agency, Tour Operator And Other Reservation Service And Related Activities \\xa0'),\n",
       " (90, 'Security And Investigation Activities \\xa0'),\n",
       " (91, 'Services To Buildings And Landscape Activities \\xa0'),\n",
       " (92,\n",
       "  'Office Administrative, Office Support And Other Business Support Activities \\xa0'),\n",
       " (93, 'Public Administration And Defence; Compulsory Social Security \\xa0'),\n",
       " (94, 'Education \\xa0'),\n",
       " (95, 'Human Health Activities'),\n",
       " (96, 'Residential Care  & Social Work Activities'),\n",
       " (97, 'Creative, Arts And Entertainment Activities \\xa0'),\n",
       " (98, 'Libraries, Archives, Museums And Other Cultural Activities \\xa0'),\n",
       " (99, 'Gambling And Betting Activities \\xa0'),\n",
       " (100, 'Sports Activities And Amusement And Recreation Activities \\xa0'),\n",
       " (101, 'Activities Of Membership Organisations \\xa0'),\n",
       " (102, 'Repair Of Computers And Personal And Household Goods \\xa0'),\n",
       " (103, 'Other Personal Service Activities \\xa0'),\n",
       " (104, 'Activities Of Households As Employers Of Domestic Personnel \\xa0'),\n",
       " (105, 'Total'),\n",
       " (106, 'Final consumption expenditure'),\n",
       " (107, 'Final consumption expenditure by government'),\n",
       " (108, 'Final consumption expenditure by households'),\n",
       " (109,\n",
       "  'Final consumption expenditure by non-profit organisations serving households (NPISH)'),\n",
       " (110, 'Gross fixed capital formation'),\n",
       " (111, 'Changes in inventories'),\n",
       " (112, 'Acquisitions less disposals of valuables'),\n",
       " (113, 'Exports of goods to EU'),\n",
       " (114, 'Exports of goods to rest of the world'),\n",
       " (115, 'Exports of Services'),\n",
       " (116, 'Total Use')]"
      ]
     },
     "execution_count": 13,
     "metadata": {},
     "output_type": "execute_result"
    }
   ],
   "source": [
    "list(enumerate(list(io_df_trimmed.columns)))"
   ]
  },
  {
   "cell_type": "code",
   "execution_count": 17,
   "id": "b46b2bab",
   "metadata": {},
   "outputs": [],
   "source": [
    "io_size = 105\n",
    "row_index_value = -2  # gva\n",
    "row_index_labor = -5  # labor compensation\n",
    "\n",
    "io_matrix = io_df_trimmed.iloc[:io_size, :io_size]\n",
    "labor = io_df_trimmed.iloc[row_index_labor, :io_size]\n",
    "value = io_df_trimmed.iloc[row_index_value, :io_size]"
   ]
  },
  {
   "cell_type": "markdown",
   "id": "f2e4003f",
   "metadata": {},
   "source": [
    "  \n",
    "  \n",
    "  \n",
    "## 2. Investigate results\n",
    "- GVA vs labor compensation  \n",
    "- GVA vs total labor compensation (that is, sum all labor that went into the inputs to the product)\n",
    "- **Q1**: Other regressions? Is GVA the right outcome variable?\n",
    "- **Q2**: How should I address the fact that there are external inputs and outputs, that is, we are only observing the economy of one single country. How, in other words, should I account for the labor that went into the imports?\n",
    "  \n",
    "  \n",
    "  "
   ]
  },
  {
   "cell_type": "code",
   "execution_count": 23,
   "id": "01c8e3a9",
   "metadata": {},
   "outputs": [],
   "source": [
    "from sklearn.linear_model import LinearRegression"
   ]
  },
  {
   "cell_type": "code",
   "execution_count": 45,
   "id": "2c75a4ce",
   "metadata": {},
   "outputs": [
    {
     "data": {
      "text/plain": [
       "0.591240273578167"
      ]
     },
     "execution_count": 45,
     "metadata": {},
     "output_type": "execute_result"
    }
   ],
   "source": [
    "X = labor.values\n",
    "X = np.expand_dims(X, axis=-1)  # requires a n_features dimension, which we add (as a dummy dim of size 1)\n",
    "y = value.values\n",
    "\n",
    "model = LinearRegression()\n",
    "model.fit(X, y)\n",
    "model.score(X, y)"
   ]
  },
  {
   "cell_type": "code",
   "execution_count": 50,
   "id": "51acbbdc",
   "metadata": {
    "scrolled": true
   },
   "outputs": [
    {
     "data": {
      "text/plain": [
       "((105,), (105,))"
      ]
     },
     "execution_count": 50,
     "metadata": {},
     "output_type": "execute_result"
    }
   ],
   "source": [
    "y.shape, y_pred.shape"
   ]
  },
  {
   "cell_type": "code",
   "execution_count": 60,
   "id": "1f038d7c",
   "metadata": {
    "scrolled": false
   },
   "outputs": [
    {
     "data": {
      "text/plain": [
       "(0.768921500270455, 9.916937373707855e-22)"
      ]
     },
     "execution_count": 60,
     "metadata": {},
     "output_type": "execute_result"
    }
   ],
   "source": [
    "# Calculate predicted values on the training set\n",
    "y_pred = model.predict(X)\n",
    "\n",
    "# Calculate the Pearson correlation coefficient and p-value\n",
    "corr, p_value = stats.pearsonr(y, y_pred)\n",
    "corr, p_value"
   ]
  },
  {
   "cell_type": "code",
   "execution_count": 72,
   "id": "5fcc28f7",
   "metadata": {},
   "outputs": [
    {
     "data": {
      "image/png": "[encoded data removed]",
      "text/plain": [
       "<Figure size 720x720 with 1 Axes>"
      ]
     },
     "metadata": {
      "needs_background": "light"
     },
     "output_type": "display_data"
    }
   ],
   "source": [
    "# define fit regression line\n",
    "a = model.coef_\n",
    "b = model.intercept_\n",
    "xlin = np.linspace(0, X.max(), 100)\n",
    "ylin = np.array([a * x + b for x in xlin])\n",
    "\n",
    "# make plot\n",
    "fig, ax = plt.subplots(figsize=(10, 10))\n",
    "ax.scatter(X.squeeze(), y)\n",
    "ax.plot(xlin, ylin, c='r')\n",
    "ax.set_xlabel('Labor compensation by industry (in Ms British Pounds)')\n",
    "ax.set_ylabel('Gross value added by industry (in Ms Bristish Pounds)')\n",
    "ax.set_title('Labor Compensation vs. Gross Value Added:\\nUK 2019')\n",
    "plt.show()"
   ]
  }
 ],
 "metadata": {
  "kernelspec": {
   "display_name": "Python [conda env:torch-ni]",
   "language": "python",
   "name": "conda-env-torch-ni-py"
  },
  "language_info": {
   "codemirror_mode": {
    "name": "ipython",
    "version": 3
   },
   "file_extension": ".py",
   "mimetype": "text/x-python",
   "name": "python",
   "nbconvert_exporter": "python",
   "pygments_lexer": "ipython3",
   "version": "3.9.7"
  }
 },
 "nbformat": 4,
 "nbformat_minor": 5
}
